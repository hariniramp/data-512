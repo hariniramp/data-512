{
 "cells": [
  {
   "cell_type": "markdown",
   "metadata": {},
   "source": [
    "# A1: Data Curation\n",
    "### Harini Ram Prasad\n",
    "This section imports all the necessary libraries to access the Wikimedia API, handle data processing, json file formats and data visualization.\n"
   ]
  },
  {
   "cell_type": "code",
   "execution_count": 1,
   "metadata": {},
   "outputs": [],
   "source": [
    "import json   # json files format library\n",
    "import requests   # make Wikimedia API calls \n",
    "import numpy as np     # handle array manipulation (pretty minimally used in this notebook)\n",
    "import pandas as pd      # handle dataframe manipulation, data cleaning, joining\n",
    "from matplotlib import pyplot as plt  # library to visualize data as a time series\n",
    "# present visuals in-line instead of as output dump\n",
    "%matplotlib inline"
   ]
  },
  {
   "cell_type": "markdown",
   "metadata": {},
   "source": [
    "# Step 1: Gathering the data\n",
    "\n",
    "### Defining API endpoints\n",
    "\n",
    "This section defines the general API endpoints without specifying the exact parameters for each endpoint. 2 API endpoints have been defined:\n",
    "1. The Legacy Pagecounts API endpoint- This API provides article pagecount data relating to Wikipedia and its sister projects. The term 'pagecounts' is the legacy term for the more recently coined 'pageviews'.\n",
    "More information available here: \n",
    "\n",
    "Endpoint:https://wikimedia.org/api/rest_v1/#!/Legacy_data/get_metrics_legacy_pagecounts_aggregate_project_access_site_granularity_start_end\n",
    "Documentation: https://wikitech.wikimedia.org/wiki/Analytics/AQS/Legacy_Pagecounts\n",
    "\n",
    "2. The Pageviews API endpoint- This API provides article pageview data relating to Wikipedia and its sister projects. This improves upon the above Pagecounts API by providing a parameter to filter for automated views versus user views. Automated views include bots, web crawlers, etc. \n",
    "More information available here: \n",
    "\n",
    "Endpoint:https://wikimedia.org/api/rest_v1/#!/Pageviews_data/get_metrics_pageviews_aggregate_project_access_agent_granularity_start_end\n",
    "Documentation: https://wikitech.wikimedia.org/wiki/Analytics/AQS/Pageviews"
   ]
  },
  {
   "cell_type": "code",
   "execution_count": 2,
   "metadata": {},
   "outputs": [],
   "source": [
    "# Legacy Pagecounts API endpoint\n",
    "endpoint_legacy = 'https://wikimedia.org/api/rest_v1/metrics/legacy/pagecounts/aggregate/{project}/{access-site}/{granularity}/{start}/{end}'\n",
    "# Pageviews API endpoint\n",
    "endpoint_pageviews = 'https://wikimedia.org/api/rest_v1/metrics/pageviews/aggregate/{project}/{access}/{agent}/{granularity}/{start}/{end}'"
   ]
  },
  {
   "cell_type": "markdown",
   "metadata": {},
   "source": [
    "###  Defining parameters for querying API\n",
    "\n",
    "This section defines 5 dictionaries containing parameters to get monthly aggregated Wikipedia data from the 2 aforementioned API endpoints. The 5 dictionaries will be used to extract 5 JSON files with different types of data as mentioned below.\n",
    "\n",
    "1. Legacy Pagecounts API: This API provides data from Wikipedia's mobile and desktop access sites.\n",
    "\n",
    "    a. The variable 'desktop_params_legacy' will be used to access data from Wikipedia's desktop site.\n",
    "    \n",
    "    b. The variable 'mobile_params_legacy' will be used to access data from Wikipedia's mobile site.\n",
    "   \n",
    "   \n",
    "2. Pageviews API: This API provides data from Wikipedia's mobile web, mobile app and desktop access sites.\n",
    "\n",
    "    a. The variable 'desktop_params_pageviews' will be used to access data from Wikipedia's desktop site.\n",
    "    \n",
    "    b. The variable 'mobile_web_params_pageviews' will be used to access data from Wikipedia's mobile web site.\n",
    "    \n",
    "    c. The variable 'mobile_app_params_pageviews' will be used to access data from Wikipedia's mobile app."
   ]
  },
  {
   "cell_type": "code",
   "execution_count": 3,
   "metadata": {},
   "outputs": [],
   "source": [
    "# dictionary containing parameters for getting monthly aggregated legacy view data \n",
    "# see: https://wikimedia.org/api/rest_v1/#!/Legacy_data/get_metrics_legacy_pagecounts_aggregate_project_access_site_granularity_start_end\n",
    "\n",
    "# Legacy view parameters for desktop access site\n",
    "desktop_params_legacy = {\"project\" : \"en.wikipedia.org\",\n",
    "                 \"access-site\" : \"desktop-site\",\n",
    "                 \"granularity\" : \"monthly\",\n",
    "                # for start use 1st day of month before first month of data\n",
    "                 \"start\" : \"2007120100\",\n",
    "                # for end use 1st day of month following final month of data\n",
    "                 \"end\" : \"2016080100\"\n",
    "                    }\n",
    "# Legacy view parameters for mobile access site\n",
    "mobile_params_legacy = {\"project\" : \"en.wikipedia.org\",\n",
    "                 \"access-site\" : \"mobile-site\",\n",
    "                 \"granularity\" : \"monthly\",\n",
    "                # for start use 1st day of month before first month of data\n",
    "                 \"start\" : \"2007120100\",\n",
    "                # for end use 1st day of month following final month of data\n",
    "                 \"end\" : \"2016080100\"\n",
    "                    }\n",
    "\n",
    "# dictionary containing parameters for getting monthly aggregated current standard pageview data\n",
    "# see: https://wikimedia.org/api/rest_v1/#!/Pageviews_data/get_metrics_pageviews_aggregate_project_access_agent_granularity_start_end\n",
    "\n",
    "# Pageview parameters for desktop access site\n",
    "desktop_params_pageviews = {\"project\" : \"en.wikipedia.org\",\n",
    "                    \"access\" : \"desktop\",\n",
    "                    \"agent\" : \"user\",\n",
    "                    \"granularity\" : \"monthly\",\n",
    "                    # for start use 1st day of month before first month of data\n",
    "                     \"start\" : \"2007120100\",\n",
    "                    # for end use 1st day of month following final month of data\n",
    "                     \"end\" : \"2020090100\"\n",
    "                        }\n",
    "\n",
    "# Pageview parameters for mobile web access site\n",
    "mobile_web_params_pageviews = {\"project\" : \"en.wikipedia.org\",\n",
    "                    \"access\" : \"mobile-web\",\n",
    "                    \"agent\" : \"user\",\n",
    "                    \"granularity\" : \"monthly\",\n",
    "                    # for start use 1st day of month before first month of data\n",
    "                     \"start\" : \"2007120100\",\n",
    "                    # for end use 1st day of month following final month of data\n",
    "                     \"end\" : \"2020090100\"\n",
    "                        }\n",
    "\n",
    "# Pageview parameters for mobile app access site\n",
    "mobile_app_params_pageviews = {\"project\" : \"en.wikipedia.org\",\n",
    "                    \"access\" : \"mobile-app\",\n",
    "                    \"agent\" : \"user\",\n",
    "                    \"granularity\" : \"monthly\",\n",
    "                    # for start use 1st day of month before first month of data\n",
    "                     \"start\" : \"2007120100\",\n",
    "                    # for end use 1st day of month following final month of data\n",
    "                     \"end\" : \"2020090100\"\n",
    "                        }\n",
    "\n",
    "# Customize headers with your own information\n",
    "headers = {\n",
    "    'User-Agent': 'https://github.com/hariniramp', # personal GitHub\n",
    "    'From': 'hrp98@uw.edu'   # personal UW email\n",
    "}"
   ]
  },
  {
   "cell_type": "markdown",
   "metadata": {},
   "source": [
    "This function calls the API with the respective endpoint and parameters and returns the data in a dictionary format.\n",
    "\n",
    "Input: Endpoint URL (string), Parameters(dictionary)\n",
    "\n",
    "Output: Data (dictionary)"
   ]
  },
  {
   "cell_type": "code",
   "execution_count": 4,
   "metadata": {},
   "outputs": [],
   "source": [
    "def api_call(endpoint,parameters):\n",
    "    # Uses requests library to get data from endpoint and substituting parameters\n",
    "    call = requests.get(endpoint.format(**parameters), headers=headers)\n",
    "    response = call.json()    \n",
    "    return response"
   ]
  },
  {
   "cell_type": "markdown",
   "metadata": {},
   "source": [
    "This section calls the 2 endpoints (Legacy Pagecounts and Pageviews) in Part II Section 1 with the different parameters specified in Part II Section 2. The 5 variables contain data about the 5 query types in dictionary formats.\n",
    "\n",
    "1. Pagecounts Legacy API (Desktop): variable name is 'desktop_monthly_pagecounts'\n",
    "\n",
    "2. Pagecounts Legacy API (Mobile): variable name is 'mobile_monthly_pagecounts'\n",
    "\n",
    "\n",
    "3. Pageviews API (Desktop): variable name is 'desktop_monthly_pageviews'\n",
    "\n",
    "4. Pageviews API (Mobile Web): variable name is 'mobile_web_monthly_pageviews'\n",
    "\n",
    "5. Pageviews API (Mobile App): variable name is 'mobile_app_monthly_pageviews'"
   ]
  },
  {
   "cell_type": "code",
   "execution_count": 5,
   "metadata": {},
   "outputs": [],
   "source": [
    "# Pagecounts\n",
    "desktop_monthly_pagecounts = api_call(endpoint_legacy, desktop_params_legacy)\n",
    "mobile_monthly_pagecounts = api_call(endpoint_legacy, mobile_params_legacy)\n",
    "\n",
    "# Pageviews\n",
    "desktop_monthly_pageviews = api_call(endpoint_pageviews, desktop_params_pageviews)\n",
    "mobile_app_monthly_pageviews = api_call(endpoint_pageviews, mobile_app_params_pageviews)\n",
    "mobile_web_monthly_pageviews = api_call(endpoint_pageviews, mobile_web_params_pageviews)"
   ]
  },
  {
   "cell_type": "markdown",
   "metadata": {},
   "source": [
    "Uncomment the print statements to view any of the dictionary objects"
   ]
  },
  {
   "cell_type": "code",
   "execution_count": 6,
   "metadata": {},
   "outputs": [],
   "source": [
    "#print(mobile_monthly_pagecounts)\n",
    "#print(desktop_monthly_pagecounts)\n",
    "#print(desktop_monthly_pageviews)\n",
    "#print(mobile_app_monthly_pageviews)\n",
    "#print(mobile_web_monthly_pageviews)"
   ]
  },
  {
   "cell_type": "markdown",
   "metadata": {},
   "source": [
    "This section will save each of the 5 dictionary variables outlined above as JSON files."
   ]
  },
  {
   "cell_type": "code",
   "execution_count": 7,
   "metadata": {},
   "outputs": [],
   "source": [
    "with open(\"pagecounts_desktop-site_200801-202008.json\", \"w\") as outfile:  \n",
    "    json.dump(desktop_monthly_pagecounts, outfile) \n",
    "    \n",
    "with open(\"pagecounts_mobile-site_200801-202008.json\", \"w\") as outfile:  \n",
    "    json.dump(mobile_monthly_pagecounts, outfile) \n",
    "\n",
    "with open(\"pageviews_desktop-site_200801-202008.json\", \"w\") as outfile:  \n",
    "    json.dump(desktop_monthly_pageviews, outfile) \n",
    "    \n",
    "with open(\"pageviews_mobile-web-site_200801-202008.json\", \"w\") as outfile:  \n",
    "    json.dump(mobile_web_monthly_pageviews, outfile) \n",
    "    \n",
    "with open(\"pageviews_mobile-app-site_200801-202008.json\", \"w\") as outfile:  \n",
    "    json.dump(mobile_app_monthly_pageviews, outfile) "
   ]
  },
  {
   "cell_type": "markdown",
   "metadata": {},
   "source": [
    "# Step 2: Processing the data\n",
    "This section will process the data as follows:\n",
    "\n",
    "1. JSON/dictionary variables will be converted to Pandas dataframes"
   ]
  },
  {
   "cell_type": "code",
   "execution_count": 8,
   "metadata": {},
   "outputs": [],
   "source": [
    "# Pagecounts data converted to dataframes\n",
    "desktop_pagecounts = pd.DataFrame.from_records(desktop_monthly_pagecounts['items'])\n",
    "mobile_pagecounts = pd.DataFrame.from_records(mobile_monthly_pagecounts['items'])\n",
    "\n",
    "# Pageviews data converted to dataframes\n",
    "desktop_pageviews = pd.DataFrame.from_records(desktop_monthly_pageviews['items'])\n",
    "mobile_app_pageviews = pd.DataFrame.from_records(mobile_app_monthly_pageviews['items'])\n",
    "mobile_web_pageviews = pd.DataFrame.from_records(mobile_web_monthly_pageviews['items'])"
   ]
  },
  {
   "cell_type": "markdown",
   "metadata": {},
   "source": [
    "2. Dataframes will then drop the columns irrelevant to analysis (project, granularity, access site, agent)"
   ]
  },
  {
   "cell_type": "code",
   "execution_count": 9,
   "metadata": {},
   "outputs": [],
   "source": [
    "# Pagecounts dataframes drop 'project','granularity', 'access-site' columns\n",
    "desktop_pagecounts = desktop_pagecounts.drop(columns=['project','granularity', 'access-site'])\n",
    "mobile_pagecounts = mobile_pagecounts.drop(columns=['project','granularity', 'access-site'])\n",
    "\n",
    "# Pagecounts dataframes drop 'project','granularity', 'access', 'agent' columns\n",
    "desktop_pageviews = desktop_pageviews.drop(columns=['project','granularity', 'agent', 'access'])\n",
    "mobile_app_pageviews = mobile_app_pageviews.drop(columns=['project','granularity', 'agent', 'access'])\n",
    "mobile_web_pageviews = mobile_web_pageviews.drop(columns=['project','granularity', 'agent', 'access'])"
   ]
  },
  {
   "cell_type": "markdown",
   "metadata": {},
   "source": [
    "3. In pageviews dataframes, the mobile app and mobile web pageviews will be joined based on 'timestamp' data field. The views of mobile app and mobile web will be combined to result in a mobile pageviews field."
   ]
  },
  {
   "cell_type": "code",
   "execution_count": 10,
   "metadata": {},
   "outputs": [],
   "source": [
    "# Merge mobile_app_pageviews & mobile_web_pageviews\n",
    "mobile_pageviews = pd.merge(mobile_app_pageviews, mobile_web_pageviews, how = 'outer', on = 'timestamp' )\n",
    "\n",
    "# Calculate total mobile views as sum of mobile app and mobile web pageviews\n",
    "mobile_pageviews['views'] = mobile_pageviews['views_x'] + mobile_pageviews['views_y']\n",
    "\n",
    "# Drop individual mobile web and mobile app pageview count\n",
    "mobile_pageviews = mobile_pageviews.drop(columns = ['views_x', 'views_y'])"
   ]
  },
  {
   "cell_type": "markdown",
   "metadata": {},
   "source": [
    "4. The year and month of each view count are derived by parsing the timestamps."
   ]
  },
  {
   "cell_type": "code",
   "execution_count": 11,
   "metadata": {},
   "outputs": [],
   "source": [
    "# Mobile pageview API viewcount: Add month and year columns\n",
    "mobile_pageviews['year'] = mobile_pageviews['timestamp'].apply(lambda a:a[0:4])\n",
    "mobile_pageviews['month'] = mobile_pageviews['timestamp'].apply(lambda a:a[4:6])\n",
    "\n",
    "# Desktop pageview API viewcount: Add month and year columns\n",
    "desktop_pageviews['year'] = desktop_pageviews['timestamp'].apply(lambda a:a[0:4])\n",
    "desktop_pageviews['month'] = desktop_pageviews['timestamp'].apply(lambda a:a[4:6])\n",
    "\n",
    "# Mobile pagecount API viewcount: Add month and year columns\n",
    "mobile_pagecounts['year'] = mobile_pagecounts['timestamp'].apply(lambda a:a[0:4])\n",
    "mobile_pagecounts['month'] = mobile_pagecounts['timestamp'].apply(lambda a:a[4:6])\n",
    "\n",
    "# Desktop pagecount API viewcount: Add month and year columns\n",
    "desktop_pagecounts['year'] = desktop_pagecounts['timestamp'].apply(lambda a:a[0:4])\n",
    "desktop_pagecounts['month'] = desktop_pagecounts['timestamp'].apply(lambda a:a[4:6])"
   ]
  },
  {
   "cell_type": "markdown",
   "metadata": {},
   "source": [
    "5. The pageviews data is consolidated by joining pageviews through desktop access and mobile access on the 'timestamp' field. An additional field called 'pageview_all_views' is used to depict the total views using the Pageview API."
   ]
  },
  {
   "cell_type": "code",
   "execution_count": 12,
   "metadata": {},
   "outputs": [
    {
     "data": {
      "text/html": [
       "<div>\n",
       "<style scoped>\n",
       "    .dataframe tbody tr th:only-of-type {\n",
       "        vertical-align: middle;\n",
       "    }\n",
       "\n",
       "    .dataframe tbody tr th {\n",
       "        vertical-align: top;\n",
       "    }\n",
       "\n",
       "    .dataframe thead th {\n",
       "        text-align: right;\n",
       "    }\n",
       "</style>\n",
       "<table border=\"1\" class=\"dataframe\">\n",
       "  <thead>\n",
       "    <tr style=\"text-align: right;\">\n",
       "      <th></th>\n",
       "      <th>timestamp</th>\n",
       "      <th>pageview_mobile_views</th>\n",
       "      <th>year</th>\n",
       "      <th>month</th>\n",
       "      <th>pageview_desktop_views</th>\n",
       "      <th>pageview_all_views</th>\n",
       "    </tr>\n",
       "  </thead>\n",
       "  <tbody>\n",
       "    <tr>\n",
       "      <td>0</td>\n",
       "      <td>2015070100</td>\n",
       "      <td>3288755294</td>\n",
       "      <td>2015</td>\n",
       "      <td>07</td>\n",
       "      <td>4376666686</td>\n",
       "      <td>7665421980</td>\n",
       "    </tr>\n",
       "    <tr>\n",
       "      <td>1</td>\n",
       "      <td>2015080100</td>\n",
       "      <td>3302333038</td>\n",
       "      <td>2015</td>\n",
       "      <td>08</td>\n",
       "      <td>4332482183</td>\n",
       "      <td>7634815221</td>\n",
       "    </tr>\n",
       "    <tr>\n",
       "      <td>2</td>\n",
       "      <td>2015090100</td>\n",
       "      <td>3170203333</td>\n",
       "      <td>2015</td>\n",
       "      <td>09</td>\n",
       "      <td>4485491704</td>\n",
       "      <td>7655695037</td>\n",
       "    </tr>\n",
       "    <tr>\n",
       "      <td>3</td>\n",
       "      <td>2015100100</td>\n",
       "      <td>3268499132</td>\n",
       "      <td>2015</td>\n",
       "      <td>10</td>\n",
       "      <td>4477532755</td>\n",
       "      <td>7746031887</td>\n",
       "    </tr>\n",
       "    <tr>\n",
       "      <td>4</td>\n",
       "      <td>2015110100</td>\n",
       "      <td>3236601070</td>\n",
       "      <td>2015</td>\n",
       "      <td>11</td>\n",
       "      <td>4287720220</td>\n",
       "      <td>7524321290</td>\n",
       "    </tr>\n",
       "  </tbody>\n",
       "</table>\n",
       "</div>"
      ],
      "text/plain": [
       "    timestamp  pageview_mobile_views  year month  pageview_desktop_views  \\\n",
       "0  2015070100             3288755294  2015    07              4376666686   \n",
       "1  2015080100             3302333038  2015    08              4332482183   \n",
       "2  2015090100             3170203333  2015    09              4485491704   \n",
       "3  2015100100             3268499132  2015    10              4477532755   \n",
       "4  2015110100             3236601070  2015    11              4287720220   \n",
       "\n",
       "   pageview_all_views  \n",
       "0          7665421980  \n",
       "1          7634815221  \n",
       "2          7655695037  \n",
       "3          7746031887  \n",
       "4          7524321290  "
      ]
     },
     "execution_count": 12,
     "metadata": {},
     "output_type": "execute_result"
    }
   ],
   "source": [
    "# In Pageview API data, rename 'views' to required format-pageview_mobile_views, pageview_desktop_views\n",
    "mobile_pageviews = mobile_pageviews.rename(columns={'views':'pageview_mobile_views'})\n",
    "desktop_pageviews = desktop_pageviews.rename(columns={'views':'pageview_desktop_views'})\n",
    "desktop_pageviews = desktop_pageviews.drop(columns = ['year','month'])\n",
    "\n",
    "# Merge mobile and desktop data to overall pageviews data\n",
    "pageviews_data = pd.merge(mobile_pageviews, desktop_pageviews, how = 'outer', on = 'timestamp' )\n",
    "pageviews_data['pageview_all_views'] = pageviews_data['pageview_mobile_views'] + pageviews_data['pageview_desktop_views']\n",
    "\n",
    "# Display pageviews_data format (first 5 rows)\n",
    "pageviews_data.head(5)"
   ]
  },
  {
   "cell_type": "markdown",
   "metadata": {},
   "source": [
    "6. The pagecounts data is consolidated by joining pagecounts through desktop access and mobile access on the 'timestamp' field. An additional field called 'pagecount_all_views' is used to depict the total views using the Legacy Pagecount API."
   ]
  },
  {
   "cell_type": "code",
   "execution_count": 13,
   "metadata": {},
   "outputs": [
    {
     "data": {
      "text/html": [
       "<div>\n",
       "<style scoped>\n",
       "    .dataframe tbody tr th:only-of-type {\n",
       "        vertical-align: middle;\n",
       "    }\n",
       "\n",
       "    .dataframe tbody tr th {\n",
       "        vertical-align: top;\n",
       "    }\n",
       "\n",
       "    .dataframe thead th {\n",
       "        text-align: right;\n",
       "    }\n",
       "</style>\n",
       "<table border=\"1\" class=\"dataframe\">\n",
       "  <thead>\n",
       "    <tr style=\"text-align: right;\">\n",
       "      <th></th>\n",
       "      <th>pagecount_desktop_views</th>\n",
       "      <th>year</th>\n",
       "      <th>month</th>\n",
       "      <th>pagecount_mobile_views</th>\n",
       "      <th>pagecount_all_views</th>\n",
       "    </tr>\n",
       "    <tr>\n",
       "      <th>timestamp</th>\n",
       "      <th></th>\n",
       "      <th></th>\n",
       "      <th></th>\n",
       "      <th></th>\n",
       "      <th></th>\n",
       "    </tr>\n",
       "  </thead>\n",
       "  <tbody>\n",
       "    <tr>\n",
       "      <td>2007120100</td>\n",
       "      <td>2998331524</td>\n",
       "      <td>2007</td>\n",
       "      <td>12</td>\n",
       "      <td>0.0</td>\n",
       "      <td>2.998332e+09</td>\n",
       "    </tr>\n",
       "    <tr>\n",
       "      <td>2008010100</td>\n",
       "      <td>4930902570</td>\n",
       "      <td>2008</td>\n",
       "      <td>01</td>\n",
       "      <td>0.0</td>\n",
       "      <td>4.930903e+09</td>\n",
       "    </tr>\n",
       "    <tr>\n",
       "      <td>2008020100</td>\n",
       "      <td>4818393763</td>\n",
       "      <td>2008</td>\n",
       "      <td>02</td>\n",
       "      <td>0.0</td>\n",
       "      <td>4.818394e+09</td>\n",
       "    </tr>\n",
       "    <tr>\n",
       "      <td>2008030100</td>\n",
       "      <td>4955405809</td>\n",
       "      <td>2008</td>\n",
       "      <td>03</td>\n",
       "      <td>0.0</td>\n",
       "      <td>4.955406e+09</td>\n",
       "    </tr>\n",
       "    <tr>\n",
       "      <td>2008040100</td>\n",
       "      <td>5159162183</td>\n",
       "      <td>2008</td>\n",
       "      <td>04</td>\n",
       "      <td>0.0</td>\n",
       "      <td>5.159162e+09</td>\n",
       "    </tr>\n",
       "  </tbody>\n",
       "</table>\n",
       "</div>"
      ],
      "text/plain": [
       "            pagecount_desktop_views  year month  pagecount_mobile_views  \\\n",
       "timestamp                                                                 \n",
       "2007120100               2998331524  2007    12                     0.0   \n",
       "2008010100               4930902570  2008    01                     0.0   \n",
       "2008020100               4818393763  2008    02                     0.0   \n",
       "2008030100               4955405809  2008    03                     0.0   \n",
       "2008040100               5159162183  2008    04                     0.0   \n",
       "\n",
       "            pagecount_all_views  \n",
       "timestamp                        \n",
       "2007120100         2.998332e+09  \n",
       "2008010100         4.930903e+09  \n",
       "2008020100         4.818394e+09  \n",
       "2008030100         4.955406e+09  \n",
       "2008040100         5.159162e+09  "
      ]
     },
     "execution_count": 13,
     "metadata": {},
     "output_type": "execute_result"
    }
   ],
   "source": [
    "# In Pagecount API data, rename 'count' to required format-pagecount_mobile_views, pagecount_desktop_views\n",
    "mobile_pagecounts = mobile_pagecounts.rename(columns={'count':'pagecount_mobile_views'})\n",
    "desktop_pagecounts = desktop_pagecounts.rename(columns={'count':'pagecount_desktop_views'})\n",
    "mobile_pagecounts = mobile_pagecounts.drop(columns = ['year','month'])\n",
    "\n",
    "# Merge mobile and desktop data to overall pageviews data\n",
    "pagecounts_data = desktop_pagecounts.set_index('timestamp').join(mobile_pagecounts.set_index('timestamp'), on = 'timestamp', how = 'outer')\n",
    "\n",
    "# Replace NaNs with 0 to aid processing\n",
    "pagecounts_data = pagecounts_data.fillna(0)\n",
    "\n",
    "# Calculate 'pagecount_all_views' summing 'pagecount_mobile_views' and 'pagecount_desktop_views'\n",
    "pagecounts_data['pagecount_all_views'] = pagecounts_data['pagecount_mobile_views'] + pagecounts_data['pagecount_desktop_views']\n",
    "\n",
    "# Display pagecounts_data format (first 5 rows)\n",
    "pagecounts_data.head(5)"
   ]
  },
  {
   "cell_type": "markdown",
   "metadata": {},
   "source": [
    "7. Merge data from the Pageviews and Legacy Pagecount API to create dataframe of all data that will be used for visualization (variable name: 'final_data')"
   ]
  },
  {
   "cell_type": "code",
   "execution_count": 14,
   "metadata": {},
   "outputs": [
    {
     "data": {
      "text/html": [
       "<div>\n",
       "<style scoped>\n",
       "    .dataframe tbody tr th:only-of-type {\n",
       "        vertical-align: middle;\n",
       "    }\n",
       "\n",
       "    .dataframe tbody tr th {\n",
       "        vertical-align: top;\n",
       "    }\n",
       "\n",
       "    .dataframe thead th {\n",
       "        text-align: right;\n",
       "    }\n",
       "</style>\n",
       "<table border=\"1\" class=\"dataframe\">\n",
       "  <thead>\n",
       "    <tr style=\"text-align: right;\">\n",
       "      <th></th>\n",
       "      <th>pagecount_desktop_views</th>\n",
       "      <th>year</th>\n",
       "      <th>month</th>\n",
       "      <th>pagecount_mobile_views</th>\n",
       "      <th>pagecount_all_views</th>\n",
       "      <th>pageview_mobile_views</th>\n",
       "      <th>pageview_desktop_views</th>\n",
       "      <th>pageview_all_views</th>\n",
       "    </tr>\n",
       "  </thead>\n",
       "  <tbody>\n",
       "    <tr>\n",
       "      <td>0</td>\n",
       "      <td>2.998332e+09</td>\n",
       "      <td>2007</td>\n",
       "      <td>12</td>\n",
       "      <td>NaN</td>\n",
       "      <td>2.998332e+09</td>\n",
       "      <td>NaN</td>\n",
       "      <td>NaN</td>\n",
       "      <td>NaN</td>\n",
       "    </tr>\n",
       "    <tr>\n",
       "      <td>1</td>\n",
       "      <td>4.930903e+09</td>\n",
       "      <td>2008</td>\n",
       "      <td>01</td>\n",
       "      <td>NaN</td>\n",
       "      <td>4.930903e+09</td>\n",
       "      <td>NaN</td>\n",
       "      <td>NaN</td>\n",
       "      <td>NaN</td>\n",
       "    </tr>\n",
       "    <tr>\n",
       "      <td>2</td>\n",
       "      <td>4.818394e+09</td>\n",
       "      <td>2008</td>\n",
       "      <td>02</td>\n",
       "      <td>NaN</td>\n",
       "      <td>4.818394e+09</td>\n",
       "      <td>NaN</td>\n",
       "      <td>NaN</td>\n",
       "      <td>NaN</td>\n",
       "    </tr>\n",
       "    <tr>\n",
       "      <td>3</td>\n",
       "      <td>4.955406e+09</td>\n",
       "      <td>2008</td>\n",
       "      <td>03</td>\n",
       "      <td>NaN</td>\n",
       "      <td>4.955406e+09</td>\n",
       "      <td>NaN</td>\n",
       "      <td>NaN</td>\n",
       "      <td>NaN</td>\n",
       "    </tr>\n",
       "    <tr>\n",
       "      <td>4</td>\n",
       "      <td>5.159162e+09</td>\n",
       "      <td>2008</td>\n",
       "      <td>04</td>\n",
       "      <td>NaN</td>\n",
       "      <td>5.159162e+09</td>\n",
       "      <td>NaN</td>\n",
       "      <td>NaN</td>\n",
       "      <td>NaN</td>\n",
       "    </tr>\n",
       "  </tbody>\n",
       "</table>\n",
       "</div>"
      ],
      "text/plain": [
       "   pagecount_desktop_views  year month  pagecount_mobile_views  \\\n",
       "0             2.998332e+09  2007    12                     NaN   \n",
       "1             4.930903e+09  2008    01                     NaN   \n",
       "2             4.818394e+09  2008    02                     NaN   \n",
       "3             4.955406e+09  2008    03                     NaN   \n",
       "4             5.159162e+09  2008    04                     NaN   \n",
       "\n",
       "   pagecount_all_views  pageview_mobile_views  pageview_desktop_views  \\\n",
       "0         2.998332e+09                    NaN                     NaN   \n",
       "1         4.930903e+09                    NaN                     NaN   \n",
       "2         4.818394e+09                    NaN                     NaN   \n",
       "3         4.955406e+09                    NaN                     NaN   \n",
       "4         5.159162e+09                    NaN                     NaN   \n",
       "\n",
       "   pageview_all_views  \n",
       "0                 NaN  \n",
       "1                 NaN  \n",
       "2                 NaN  \n",
       "3                 NaN  \n",
       "4                 NaN  "
      ]
     },
     "execution_count": 14,
     "metadata": {},
     "output_type": "execute_result"
    }
   ],
   "source": [
    "# Perform outer join on pagecounts_data and pageviews_data to merge into final dataset (final_data)\n",
    "final_data = pd.merge(pagecounts_data, pageviews_data, how = 'outer', left_on = ['timestamp','year','month'], right_on = ['timestamp','year','month'])\n",
    "final_data = final_data.replace(0,np.nan)    # for cleaner plotting\n",
    "final_data = final_data.drop(columns = 'timestamp')    # drop timestamp field, not in the prescribed format\n",
    "final_data.head(5)"
   ]
  },
  {
   "cell_type": "markdown",
   "metadata": {},
   "source": [
    "8. Save final_data as 'en-wikipedia_traffic_200712-202008.csv'"
   ]
  },
  {
   "cell_type": "code",
   "execution_count": 15,
   "metadata": {},
   "outputs": [],
   "source": [
    "final_data1 = final_data.replace(np.nan,0)      # for saving output\n",
    "final_data1.to_csv('en-wikipedia_traffic_200712-202008.csv')"
   ]
  },
  {
   "cell_type": "markdown",
   "metadata": {},
   "source": [
    "# Step 3: Analyze the data\n",
    " \n",
    "This section will analyze the data through plotting a visualization. The dates will range from 12/1/2007 to 08/01/2020 with monthly periodicity using a pandas library function. Then the plots will depict the time series progression along with a legend to support clear labelling."
   ]
  },
  {
   "cell_type": "code",
   "execution_count": 16,
   "metadata": {},
   "outputs": [
    {
     "name": "stderr",
     "output_type": "stream",
     "text": [
      "C:\\Users\\Dell\\Anaconda3\\lib\\site-packages\\pandas\\plotting\\_matplotlib\\converter.py:103: FutureWarning: Using an implicitly registered datetime converter for a matplotlib plotting method. The converter was registered by pandas on import. Future versions of pandas will require you to explicitly register matplotlib converters.\n",
      "\n",
      "To register the converters:\n",
      "\t>>> from pandas.plotting import register_matplotlib_converters\n",
      "\t>>> register_matplotlib_converters()\n",
      "  warnings.warn(msg, FutureWarning)\n"
     ]
    },
    {
     "data": {
      "image/png": "[encoded data removed]",
      "text/plain": [
       "<Figure size 1440x360 with 1 Axes>"
      ]
     },
     "metadata": {
      "needs_background": "light"
     },
     "output_type": "display_data"
    }
   ],
   "source": [
    "# Definition of date range (x-axis)\n",
    "dates = pd.date_range(start='12/1/2007', end='08/1/2020', freq='MS')\n",
    "\n",
    "# Scale to adjust for \n",
    "scale = 1000000\n",
    "\n",
    "# List of labels in legend\n",
    "labels = ['main site', 'mobile site', 'total']\n",
    "\n",
    "# Specifying figure size\n",
    "plt.figure(figsize=(20,5))   \n",
    "\n",
    "# Plotting the data\n",
    "plt.plot(dates, final_data['pagecount_desktop_views']/scale, color = 'green', linestyle='dashed')\n",
    "plt.plot(dates, final_data['pagecount_mobile_views']/scale, color = 'blue', linestyle='dashed')\n",
    "plt.plot(dates, final_data['pagecount_all_views']/scale, color = 'black', linestyle='dashed')\n",
    "plt.plot(dates, final_data['pageview_desktop_views']/scale, color = 'green')\n",
    "plt.plot(dates, final_data['pageview_mobile_views']/scale, color = 'blue')\n",
    "plt.plot(dates, final_data['pageview_all_views']/scale, color = 'black')\n",
    "\n",
    "# Plotting legend\n",
    "plt.legend(labels, bbox_to_anchor=(1.05, 1), loc='upper left')\n",
    "\n",
    "# Grid, title and limit specifications\n",
    "plt.grid(color='black', linestyle='-', linewidth=0.3)    # plotting grid background\n",
    "plt.title('Page Views on English Wikipedia (x 1,000,000)')   # specifying plot title\n",
    "plt.ylim(0, 12000)\n",
    "\n",
    "# Adding caption about pageview definition change\n",
    "txt = 'May 2015: A new pageview definition took effect, which eliminated all crawler traffic. Solid lines mark new definition'\n",
    "plt.figtext(0.5, -0.01, txt, wrap=True, horizontalalignment='center', fontsize=12, color = 'red')\n",
    "\n",
    "# Saving figure\n",
    "plt.savefig('Page Views on English Wikipedia.png')"
   ]
  }
 ],
 "metadata": {
  "kernelspec": {
   "display_name": "Python 3",
   "language": "python",
   "name": "python3"
  },
  "language_info": {
   "codemirror_mode": {
    "name": "ipython",
    "version": 3
   },
   "file_extension": ".py",
   "mimetype": "text/x-python",
   "name": "python",
   "nbconvert_exporter": "python",
   "pygments_lexer": "ipython3",
   "version": "3.7.4"
  }
 },
 "nbformat": 4,
 "nbformat_minor": 2
}
